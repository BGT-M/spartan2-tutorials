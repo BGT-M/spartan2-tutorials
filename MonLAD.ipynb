{
 "cells": [
  {
   "cell_type": "markdown",
   "id": "38cdb4ed",
   "metadata": {},
   "source": [
    "# MonLAD: Money Laundering Agents Detection in Transaction Streams\n",
    "We propose a novel approach MonLAD to detect money laundering agent accounts in a transaction stream, it is able to fast answer the detection query at any time based on the statistical features."
   ]
  },
  {
   "cell_type": "code",
   "execution_count": null,
   "id": "841025e6",
   "metadata": {},
   "outputs": [],
   "source": [
    "import sys\n",
    "sys.path.insert(0, \"/Users/sunxiaobing/4-code/spartan2\")\n",
    "import spartan as st\n",
    "import numpy as np\n",
    "import pdb\n",
    "import os"
   ]
  },
  {
   "cell_type": "markdown",
   "id": "6e1db12d",
   "metadata": {},
   "source": [
    "# Prepare data and set parameters\n",
    "- deltaUp: minimum thresholds for an effective fan-in.\n",
    "\n",
    "- deltaDown:minimum thresholds for an effective fan-out.\n",
    "\n",
    "- epsilon: a small residual epsilon > 0 to nullify the fraudsters’ attempts to evade detection by keeping a low balance. \n",
    "\n",
    "- has_edge: whether the input data are the edges of the transaction (including two nodes)"
   ]
  },
  {
   "cell_type": "markdown",
   "id": "0c3d07ed",
   "metadata": {},
   "source": [
    "**Data**: Due to the privacy of bank data, we only provide a demo data to help users better use it.\n",
    "\n",
    "**Input format**: We provide two input formats corresponding to different files (i.e., ZeroOutCore.py and ZeroOutCoreCFD.py).\n",
    "- `(source_id, destination_id, timestamp, weight)` corr. to `has_edge=True`\n",
    "- `(account_id, transaction_type, weight)` corr. to `has_edge=False`\n",
    "\n",
    "**Note that**: If you choose the second one, you may need to change the name of the transaction_type (`source_type` and `des_type`) , that is, PRIJEM represents transfer in and VYDAJ represents transfer out.\n"
   ]
  },
  {
   "cell_type": "code",
   "execution_count": null,
   "id": "a23da31c",
   "metadata": {},
   "outputs": [],
   "source": [
    "f = open(\"inputData/cfd.csv\", \"r\")\n",
    "tensor_stream = st.TensorStream(f, col_idx = [0,1,2,3], col_types=[int,int,str,float], sep=',', mappers={},hasvalue=True)"
   ]
  },
  {
   "cell_type": "code",
   "execution_count": null,
   "id": "0b3d4597",
   "metadata": {},
   "outputs": [],
   "source": [
    "deltaUp = deltaDown = delta = 10000\n",
    "epsilon = 10000\n",
    "param_dict={'deltaUp': deltaUp, 'deltaDown': deltaDown, 'epsilon':epsilon, 'window':1, 'stride':1, 'ts_idx':1, \\\n",
    "    'has_edge': False, 'source_type': 'VYDAJ', 'des_type': 'PRIJEM'}"
   ]
  },
  {
   "cell_type": "markdown",
   "id": "47e72ee9",
   "metadata": {},
   "source": [
    "# Run as a model"
   ]
  },
  {
   "cell_type": "code",
   "execution_count": null,
   "id": "ebb4be0a",
   "metadata": {},
   "outputs": [],
   "source": [
    "monlad = st.MonLAD(tensor_stream, **param_dict)"
   ]
  },
  {
   "cell_type": "markdown",
   "id": "8f66af0a",
   "metadata": {},
   "source": [
    "### Get statistical features"
   ]
  },
  {
   "cell_type": "code",
   "execution_count": null,
   "id": "c7920acb",
   "metadata": {},
   "outputs": [],
   "source": [
    "count_df = monlad.run()"
   ]
  },
  {
   "cell_type": "code",
   "execution_count": null,
   "id": "f759fca7",
   "metadata": {},
   "outputs": [],
   "source": [
    "save_path = None # './result/'\n",
    "if save_path:\n",
    "    if not os.path.exists(save_path):\n",
    "        os.makedirs(save_path)\n",
    "    count_fileName = os.path.join(save_path, 'CFD_count' + str(delta // 1000) + 'k.csv')\n",
    "    print('Output count.csv to: ', count_fileName)\n",
    "    count_df.to_csv(count_fileName, index=False)"
   ]
  },
  {
   "cell_type": "markdown",
   "id": "f788968f",
   "metadata": {},
   "source": [
    "### Anomaly detection\n",
    "- For normal data, it is recommended to set `alpha = 0.98, k = 1.5, p = 0.9~0.99`."
   ]
  },
  {
   "cell_type": "code",
   "execution_count": null,
   "id": "4bf60409",
   "metadata": {},
   "outputs": [],
   "source": [
    "# recommend: alpha=0.98, k=1.5, p=0.99\n",
    "# 1: part1; 2: part3; 3: part2-1; 4:part2-2\n",
    "anomalous_acc = monlad.anomaly_detection(detect_part=[1, 2, 3, 4], alpha=0.5, k=1, p=0.8, outpath=None)"
   ]
  },
  {
   "cell_type": "code",
   "execution_count": null,
   "id": "5db8b6ab",
   "metadata": {},
   "outputs": [],
   "source": []
  }
 ],
 "metadata": {
  "kernelspec": {
   "display_name": "Python 3 (ipykernel)",
   "language": "python",
   "name": "python3"
  },
  "language_info": {
   "codemirror_mode": {
    "name": "ipython",
    "version": 3
   },
   "file_extension": ".py",
   "mimetype": "text/x-python",
   "name": "python",
   "nbconvert_exporter": "python",
   "pygments_lexer": "ipython3",
   "version": "3.9.7"
  }
 },
 "nbformat": 4,
 "nbformat_minor": 5
}
